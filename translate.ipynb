{
 "cells": [
  {
   "cell_type": "code",
   "execution_count": 6,
   "metadata": {},
   "outputs": [],
   "source": [
    "import configparser\n",
    "\n",
    "config = configparser.ConfigParser()\n",
    "config.read('config.ini')\n",
    "\n",
    "apikey = config['DEFAULT']['ApiKey']\n",
    "url = config['DEFAULT']['Url']\n",
    "field_selection = 'text_entry'"
   ]
  },
  {
   "cell_type": "code",
   "execution_count": 2,
   "metadata": {
    "tags": []
   },
   "outputs": [],
   "source": [
    "import json\n",
    "import pandas as pd\n",
    "from ibm_watson import LanguageTranslatorV3\n",
    "from ibm_cloud_sdk_core.authenticators import IAMAuthenticator\n",
    "\n",
    "authenticator = IAMAuthenticator(apikey)\n",
    "translator = LanguageTranslatorV3(\n",
    "    version='2018-05-01',\n",
    "    authenticator=authenticator)\n",
    "\n",
    "translator.set_service_url(url)"
   ]
  },
  {
   "cell_type": "code",
   "execution_count": null,
   "metadata": {},
   "outputs": [],
   "source": [
    "models = translator.list_models().get_result()\n",
    "print(json.dumps(models, indent=2))"
   ]
  },
  {
   "cell_type": "code",
   "execution_count": 20,
   "metadata": {},
   "outputs": [
    {
     "name": "stdout",
     "output_type": "stream",
     "text": [
      "   client_ID                               text_entry\n",
      "0          1                Hello, how are you today?\n",
      "1          2  Bonjour, comment vous êtes aujourd'hui?\n",
      "['Hello, how are you today?', \"Bonjour, comment vous êtes aujourd'hui?\"]\n",
      "{\n",
      "  \"translations\": [\n",
      "    {\n",
      "      \"translation\": \"Hello, how are you today?\"\n",
      "    },\n",
      "    {\n",
      "      \"translation\": \"Hello, how are you today?\"\n",
      "    }\n",
      "  ],\n",
      "  \"word_count\": 14,\n",
      "  \"character_count\": 64\n",
      "}\n",
      "['Hello, how are you today?', 'Hello, how are you today?']\n",
      "{\n",
      "  \"translations\": [\n",
      "    {\n",
      "      \"translation\": \"Bonjour, comment es-tu aujourd'hui?\"\n",
      "    },\n",
      "    {\n",
      "      \"translation\": \"Bonjour, comment vous \\u00eates aujourd'hui?\"\n",
      "    }\n",
      "  ],\n",
      "  \"word_count\": 14,\n",
      "  \"character_count\": 64\n",
      "}\n",
      "[\"Bonjour, comment es-tu aujourd'hui?\", \"Bonjour, comment vous êtes aujourd'hui?\"]\n",
      "   client_ID                               text_entry  \\\n",
      "0          1                Hello, how are you today?   \n",
      "1          2  Bonjour, comment vous êtes aujourd'hui?   \n",
      "\n",
      "             fr-CA-en_result                          en-fr-CA_result  \n",
      "0  Hello, how are you today?      Bonjour, comment es-tu aujourd'hui?  \n",
      "1  Hello, how are you today?  Bonjour, comment vous êtes aujourd'hui?  \n"
     ]
    }
   ],
   "source": [
    "data = pd.read_csv('test.csv')\n",
    "print(data)\n",
    "\n",
    "text_entries = data[field_selection].to_list()\n",
    "print(text_entries)\n",
    "\n",
    "fr_en_translation_result = translator.translate(\n",
    "    text=text_entries,\n",
    "    model_id='fr-CA-en').get_result()\n",
    "print(json.dumps(fr_en_translation_result, indent=2))\n",
    "\n",
    "fr_en_translations = []\n",
    "for line in fr_en_translation_result[\"translations\"]:\n",
    "    fr_en_translations.append(line[\"translation\"])\n",
    "print(fr_en_translations)\n",
    "\n",
    "en_fr_translation_result = translator.translate(\n",
    "    text=text_entries,\n",
    "    model_id='en-fr-CA').get_result()\n",
    "print(json.dumps(en_fr_translation_result, indent=2))\n",
    "\n",
    "en_fr_translations = []\n",
    "for line in en_fr_translation_result[\"translations\"]:\n",
    "    en_fr_translations.append(line[\"translation\"])\n",
    "print(en_fr_translations)\n",
    "\n",
    "data['fr-CA-en_result'] = fr_en_translations\n",
    "data['en-fr-CA_result'] = en_fr_translations\n",
    "print(data)\n",
    "\n",
    "data.to_csv('translated_result.csv', index=False)"
   ]
  }
 ],
 "metadata": {
  "kernelspec": {
   "display_name": "Python 3 (ipykernel)",
   "language": "python",
   "name": "python3"
  },
  "language_info": {
   "codemirror_mode": {
    "name": "ipython",
    "version": 3
   },
   "file_extension": ".py",
   "mimetype": "text/x-python",
   "name": "python",
   "nbconvert_exporter": "python",
   "pygments_lexer": "ipython3",
   "version": "3.9.9"
  }
 },
 "nbformat": 4,
 "nbformat_minor": 4
}
