{
 "cells": [
  {
   "cell_type": "code",
   "execution_count": null,
   "metadata": {},
   "outputs": [],
   "source": [
    "import configparser\n",
    "\n",
    "config = configparser.ConfigParser()\n",
    "config.read('config.ini')\n",
    "\n",
    "apikey = config['DEFAULT']['ApiKey']\n",
    "url = config['DEFAULT']['Url']\n",
    "field_selection = 'Text Entry'\n",
    "csv = 'var/translator/DiaryNotes_sample_Mar28.csv'"
   ]
  },
  {
   "cell_type": "code",
   "execution_count": null,
   "metadata": {
    "tags": []
   },
   "outputs": [],
   "source": [
    "import json\n",
    "import sys\n",
    "\n",
    "try:\n",
    "    import pandas as pd\n",
    "except ImportError:\n",
    "    subprocess.run([sys.executable, \"-m\", \"pip\", \"install\", \"pandas\"], check=True)\n",
    "finally:\n",
    "    import pandas as pd\n",
    "\n",
    "try:\n",
    "    from ibm_watson import LanguageTranslatorV3\n",
    "    from ibm_cloud_sdk_core.authenticators import IAMAuthenticator\n",
    "except ImportError:\n",
    "    subprocess.run([sys.executable, \"-m\", \"pip\", \"install\", \"ibm-watson\"], check=True)\n",
    "    subprocess.run([sys.executable, \"-m\", \"pip', 'install', 'ibm-cloud-sdk-core\"], check=True)\n",
    "finally:\n",
    "    from ibm_watson import LanguageTranslatorV3\n",
    "    from ibm_cloud_sdk_core.authenticators import IAMAuthenticator\n",
    "\n",
    "authenticator = IAMAuthenticator(apikey)\n",
    "translator = LanguageTranslatorV3(\n",
    "    version='2018-05-01',\n",
    "    authenticator=authenticator)\n",
    "\n",
    "translator.set_service_url(url)"
   ]
  },
  {
   "cell_type": "code",
   "execution_count": null,
   "metadata": {},
   "outputs": [],
   "source": [
    "models = translator.list_models().get_result()\n",
    "print(json.dumps(models, indent=2))"
   ]
  },
  {
   "cell_type": "code",
   "execution_count": null,
   "metadata": {},
   "outputs": [],
   "source": [
    "data = pd.read_csv(csv)\n",
    "print(data)\n",
    "\n",
    "text_entries = [str(elem) for elem in data[field_selection].to_list()]"
   ]
  },
  {
   "cell_type": "code",
   "execution_count": null,
   "metadata": {},
   "outputs": [],
   "source": [
    "from math import ceil\n",
    "\n",
    "def utf8len(s=''):\n",
    "    s = str(s)\n",
    "    return len(s.encode('utf-8'))\n",
    "\n",
    "def utf8_length_list(l=[]):\n",
    "    length = 0\n",
    "    for i in l:\n",
    "        length += utf8len(i)\n",
    "    return length\n",
    "\n",
    "def chunks(l, n):\n",
    "    d, r = divmod(len(l), n)\n",
    "    for i in range(n):\n",
    "        si = (d+1)*(i if i < r else r) + d*(0 if i < r else i - r)\n",
    "        yield l[si:si+(d+1 if i < r else d)]\n",
    "\n",
    "for chunk in chunks(text_entries, ceil(utf8_length_list(text_entries)/48000)):\n",
    "    print(utf8_length_list(chunk))"
   ]
  },
  {
   "cell_type": "code",
   "execution_count": null,
   "metadata": {},
   "outputs": [],
   "source": [
    "fr_en_translation_result = []\n",
    "for chunk in chunks(text_entries, ceil(utf8_length_list(text_entries)/48000)):\n",
    "    fr_en_translation_result.append(translator.translate(\n",
    "        text=chunk,\n",
    "        model_id='fr-CA-en').get_result())\n",
    "print(json.dumps(fr_en_translation_result, indent=2))"
   ]
  },
  {
   "cell_type": "code",
   "execution_count": null,
   "metadata": {},
   "outputs": [],
   "source": [
    "fr_en_translations = []\n",
    "for result in fr_en_translation_result:\n",
    "    for line in result[\"translations\"]:\n",
    "        fr_en_translations.append(line[\"translation\"])\n",
    "print(fr_en_translations)"
   ]
  },
  {
   "cell_type": "code",
   "execution_count": null,
   "metadata": {},
   "outputs": [],
   "source": [
    "en_fr_translation_result = []\n",
    "for chunk in chunks(text_entries, ceil(utf8_length_list(text_entries)/48000)):\n",
    "    en_fr_translation_result.append(translator.translate(\n",
    "        text=chunk,\n",
    "        model_id='en-fr-CA').get_result())\n",
    "print(json.dumps(en_fr_translation_result, indent=2))"
   ]
  },
  {
   "cell_type": "code",
   "execution_count": null,
   "metadata": {},
   "outputs": [],
   "source": [
    "en_fr_translations = []\n",
    "for result in en_fr_translation_result:\n",
    "    for line in result[\"translations\"]:\n",
    "        en_fr_translations.append(line[\"translation\"])\n",
    "print(en_fr_translations)"
   ]
  },
  {
   "cell_type": "code",
   "execution_count": null,
   "metadata": {},
   "outputs": [],
   "source": [
    "data['fr-CA-en_result'] = fr_en_translations\n",
    "data['en-fr-CA_result'] = en_fr_translations\n",
    "data.to_csv('var/translator/translated_result.csv', index=False)\n",
    "print(data)"
   ]
  }
 ],
 "metadata": {
  "kernelspec": {
   "display_name": "Python 3 (ipykernel)",
   "language": "python",
   "name": "python3"
  },
  "language_info": {
   "codemirror_mode": {
    "name": "ipython",
    "version": 3
   },
   "file_extension": ".py",
   "mimetype": "text/x-python",
   "name": "python",
   "nbconvert_exporter": "python",
   "pygments_lexer": "ipython3",
   "version": "3.9.9"
  }
 },
 "nbformat": 4,
 "nbformat_minor": 4
}
