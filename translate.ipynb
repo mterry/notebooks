{
 "cells": [
  {
   "cell_type": "code",
   "execution_count": 1,
   "metadata": {},
   "outputs": [
    {
     "name": "stderr",
     "output_type": "stream",
     "text": [
      "22/04/25 15:30:02 WARN Utils: Your hostname, LAPTOP-USGLV2R6 resolves to a loopback address: 127.0.1.1; using 172.28.45.209 instead (on interface eth0)\n",
      "22/04/25 15:30:02 WARN Utils: Set SPARK_LOCAL_IP if you need to bind to another address\n",
      "Using Spark's default log4j profile: org/apache/spark/log4j-defaults.properties\n",
      "Setting default log level to \"WARN\".\n",
      "To adjust logging level use sc.setLogLevel(newLevel). For SparkR, use setLogLevel(newLevel).\n",
      "22/04/25 15:30:04 WARN NativeCodeLoader: Unable to load native-hadoop library for your platform... using builtin-java classes where applicable\n",
      "                                                                                \r"
     ]
    },
    {
     "name": "stdout",
     "output_type": "stream",
     "text": [
      "+---------+--------------------+--------------------+\n",
      "|client id|          text entry|    translated entry|\n",
      "+---------+--------------------+--------------------+\n",
      "|        1|Hello, how are yo...|Bonjour, comment ...|\n",
      "|        2|Bonjour, comment ...|Hello, how are yo...|\n",
      "+---------+--------------------+--------------------+\n",
      "\n"
     ]
    }
   ],
   "source": [
    "\n",
    "import json\n",
    "from ibm_watson import LanguageTranslatorV3\n",
    "from ibm_cloud_sdk_core.authenticators import IAMAuthenticator\n",
    "\n",
    "from pyspark.sql import SparkSession\n",
    "from pyspark.sql.functions import col, udf\n",
    "from pyspark.sql.types import StringType\n",
    "\n",
    "import configparser\n",
    "config = configparser.ConfigParser()\n",
    "config.read('config.ini')\n",
    "apikey = config['DEFAULT']['ApiKey']\n",
    "url = config['DEFAULT']['Url']\n",
    "\n",
    "# local external file, gitignore\n",
    "# to encrypt apikey\n",
    "\n",
    "# read into array\n",
    "# pass array to translate service\n",
    "# iterate following the original order\n",
    "# O(2*N)\n",
    "\n",
    "\n",
    "def translateService(to_translate):\n",
    "    if (to_translate == ''):\n",
    "        return ''\n",
    "    authenticator = IAMAuthenticator(apikey)\n",
    "    language_translator = LanguageTranslatorV3(\n",
    "        version='2018-05-01',\n",
    "        authenticator=authenticator\n",
    "    )\n",
    "\n",
    "    language_translator.set_service_url(url)\n",
    "\n",
    "    language = language_translator.identify(\n",
    "        to_translate).get_result()\n",
    "    detected_language = json.loads(json.dumps(language, indent=2))['languages'][0]['language']\n",
    "    model_used = ''\n",
    "    if(detected_language == 'en'):\n",
    "        model_used = 'en-fr'\n",
    "    else:\n",
    "        model_used = 'fr-en'\n",
    "    translation = language_translator.translate(\n",
    "        text=to_translate,\n",
    "        model_id=model_used).get_result()\n",
    "    translated_result = json.loads(json.dumps(translation, indent=2, ensure_ascii=False))['translations'][0]['translation']\n",
    "    return translated_result\n",
    "\n",
    "# load document\n",
    "spark = SparkSession \\\n",
    "    .builder \\\n",
    "    .appName(\"Test\") \\\n",
    "    .getOrCreate()\n",
    "\n",
    "# create spark dataframe, immutable\n",
    "df = spark.read \\\n",
    "    .options(header=True, encoding='UTF-8') \\\n",
    "    .csv(\"test.csv\")\n",
    "\n",
    "# col1\n",
    "client_id_list = [data[0] for data in df.select((col(\"client id\"))).collect()]\n",
    "# col2\n",
    "to_translate_list = [data[0] for data in df.select((col(\"text entry\"))).collect()]\n",
    "# col3\n",
    "translated_list = []\n",
    "for text in to_translate_list:\n",
    "    translated = translateService(text)\n",
    "    translated_list.append(translated)\n",
    "# headers\n",
    "headers = [\"client id\", \"text entry\", \"translated entry\"]\n",
    "\n",
    "merged_columns_tuple_list = [(client_id_list[i], to_translate_list[i], translated_list[i]) for i in range(0, len(to_translate_list))]\n",
    "\n",
    "# parse df_new for output\n",
    "df_new = spark.createDataFrame(merged_columns_tuple_list, schema = headers)\n",
    "df_new.show()\n",
    "# generate as output file\n",
    "df_new.coalesce(1).write.csv('testoutputspark', header=True)\n"
   ]
  }
 ],
 "metadata": {
  "kernelspec": {
   "display_name": "ibmnotebooks",
   "language": "python",
   "name": "ibmnotebooks"
  },
  "language_info": {
   "codemirror_mode": {
    "name": "ipython",
    "version": 3
   },
   "file_extension": ".py",
   "mimetype": "text/x-python",
   "name": "python",
   "nbconvert_exporter": "python",
   "pygments_lexer": "ipython3",
   "version": "3.9.9"
  }
 },
 "nbformat": 4,
 "nbformat_minor": 4
}
